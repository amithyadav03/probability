{
 "cells": [
  {
   "cell_type": "code",
   "execution_count": 138,
   "metadata": {},
   "outputs": [
    {
     "name": "stdout",
     "output_type": "stream",
     "text": [
      "Enter the number of Red Balls in the Bag: 10000\n",
      "Enter the number of Green Balls in the Bag: 100000\n",
      "Enter the number of Blue Balls in the Bag: 1000000\n",
      "{'Red': 9999, 'Green': 99999, 'Blue': 999998}\n",
      "Probailty of getting two same colored balls in 3rd pick:  0.8198221410736084\n"
     ]
    }
   ],
   "source": [
    "import random\n",
    "import math\n",
    "\n",
    "def cal_nCr(n, r): #function to find the number of combinations in an efficient way\n",
    "    \n",
    "    p = 1  # p holds the value of n*(n-1)*(n-2)...,\n",
    "    k = 1  # k holds the value of r*(r-1)...\n",
    "    \n",
    "   \n",
    "    if (n - r < r):  # C(n, r) == C(n, n-r),\n",
    "        r = n - r  # choosing the smaller value\n",
    " \n",
    "    if (r != 0):\n",
    "        while (r):\n",
    "            p *= n\n",
    "            k *= r\n",
    " \n",
    "            m = gcd(p, k)  # gcd of p, k\n",
    " \n",
    "            p //= m # dividing by gcd, to simplify product\n",
    "            k //= m # division by their gcd saves from the overflow\n",
    " \n",
    "            n -= 1\n",
    "            r -= 1\n",
    " \n",
    "        # k should be simplified to 1\n",
    "        # as C(n, r) is a natural number\n",
    "        # (denominator should be 1 )\n",
    " \n",
    "    else:\n",
    "        p = 1\n",
    "        \n",
    "    return p\n",
    "\n",
    "A = int(input(\"Enter the number of Red Balls in the Bag: \")) \n",
    "B = int(input(\"Enter the number of Green Balls in the Bag: \"))\n",
    "C = int(input(\"Enter the number of Blue Balls in the Bag: \"))\n",
    "\n",
    "Total = A+B+C  #cannot do 3rd pick of 2 balls from bag if total is less than 6\n",
    "assert Total>=6, \"Not possible to pick 2 balls thrice, so probabilty would be zero\"\n",
    "\n",
    "bag = {'Red':A, 'Green':B, 'Blue':C} #creating a bag with A,B,C number of Red, Green, Blue balls respectively\n",
    "\n",
    "for i in range(4): # 2 balls picked 2 times = 4 balls picked  \n",
    "    bag = {key:val for key, val in bag.items() if val>0} #if there are no balls of a particular color is left remove that from dict as that color cannot be picked subsequently\n",
    "    bag[random.choice(list(bag.keys()))] -=1 #randomly select a ball and decrement the count as we are not replacing them\n",
    "\n",
    "bag = {key:val for key, val in bag.items() if val>0} #if there are no balls of a particular color is left remove that from dict as that color cannot be picked subsequently\n",
    "print(bag) #bag left for 3rd pick\n",
    "\n",
    "tot_num_same_color_comb = 0\n",
    "for v in bag.values():\n",
    "    if v>=2:\n",
    "        tot_num_same_color_comb += cal_nCr(v,2) #number of ways in which same colored balls can be picked\n",
    "if sum(bag.values()) >=2:\n",
    "    prob = tot_num_same_color_comb/cal_nCr(sum(bag.values()),2) #prob = favourable outcomes/total number of outcomes\n",
    "    print(\"Probailty of getting two same colored balls in 3rd pick: \", prob)\n",
    "\n",
    " "
   ]
  },
  {
   "cell_type": "code",
   "execution_count": null,
   "metadata": {},
   "outputs": [],
   "source": []
  }
 ],
 "metadata": {
  "kernelspec": {
   "display_name": "Python 3",
   "language": "python",
   "name": "python3"
  },
  "language_info": {
   "codemirror_mode": {
    "name": "ipython",
    "version": 3
   },
   "file_extension": ".py",
   "mimetype": "text/x-python",
   "name": "python",
   "nbconvert_exporter": "python",
   "pygments_lexer": "ipython3",
   "version": "3.7.6"
  }
 },
 "nbformat": 4,
 "nbformat_minor": 4
}
